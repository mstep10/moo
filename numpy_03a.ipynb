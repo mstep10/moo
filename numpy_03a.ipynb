{
  "cells": [
    {
      "cell_type": "markdown",
      "metadata": {
        "id": "view-in-github",
        "colab_type": "text"
      },
      "source": [
        "<a href=\"https://colab.research.google.com/github/mstep10/moo/blob/main/numpy_03a.ipynb\" target=\"_parent\"><img src=\"https://colab.research.google.com/assets/colab-badge.svg\" alt=\"Open In Colab\"/></a>"
      ]
    },
    {
      "cell_type": "markdown",
      "id": "bZg6xb_7jnog",
      "metadata": {
        "id": "bZg6xb_7jnog"
      },
      "source": [
        "NumPy введение.  (MY)                      mms,11.09.22   *) + о точности sum/fsum/np.sum\n",
        "\n",
        "https://numpy.org/doc/1.23/numpy-user.pdf  - подробно и с большим количеством примеров. На английском, но не сложно.\n",
        "https://physics.susu.ru/vorontsov/language/numpy.html    -довольно полная информация справочная информация по библиотеке"
      ]
    },
    {
      "cell_type": "code",
      "execution_count": null,
      "id": "e1fe987f-8618-4a04-b8e6-6328bcf702c1",
      "metadata": {
        "id": "e1fe987f-8618-4a04-b8e6-6328bcf702c1",
        "colab": {
          "base_uri": "https://localhost:8080/"
        },
        "outputId": "a0511f73-a003-4a9f-86d2-0c6997641010"
      },
      "outputs": [
        {
          "output_type": "stream",
          "name": "stdout",
          "text": [
            "<class 'numpy.ndarray'>\n"
          ]
        },
        {
          "output_type": "execute_result",
          "data": {
            "text/plain": [
              "array([ 1.,  3., -1.])"
            ]
          },
          "metadata": {},
          "execution_count": 2
        }
      ],
      "source": [
        "import numpy as np\n",
        "#from numpy import *\n",
        "\n",
        "#Создание массива(вектора) из списка\n",
        "nums = [1, 3, -1]\n",
        "v = np.array(nums,dtype=float)\n",
        "print(type(v))\n",
        "v"
      ]
    },
    {
      "cell_type": "code",
      "execution_count": null,
      "id": "3SxseUs2UBOM",
      "metadata": {
        "id": "3SxseUs2UBOM",
        "colab": {
          "base_uri": "https://localhost:8080/"
        },
        "outputId": "17a678e0-f2ee-474d-e331-9abb9634b3df"
      },
      "outputs": [
        {
          "output_type": "stream",
          "name": "stdout",
          "text": [
            "[1 2 3 4]\n",
            "1 2 3 4\n"
          ]
        },
        {
          "output_type": "execute_result",
          "data": {
            "text/plain": [
              "array([1, 2, 3, 4])"
            ]
          },
          "metadata": {},
          "execution_count": 3
        }
      ],
      "source": [
        "v1=np.arange(1, 5)              #Cоздает вектор с элементами от 1 до 4\n",
        "#Cравните вывод:\n",
        "print(v1)\n",
        "print(*v1)\n",
        "v1"
      ]
    },
    {
      "cell_type": "code",
      "execution_count": null,
      "id": "7a92d970-00bd-4101-ae0c-5a95098e6677",
      "metadata": {
        "id": "7a92d970-00bd-4101-ae0c-5a95098e6677",
        "colab": {
          "base_uri": "https://localhost:8080/"
        },
        "outputId": "e8c0dc33-49b0-4247-9a4d-2fbcaa0d0d66"
      },
      "outputs": [
        {
          "output_type": "stream",
          "name": "stdout",
          "text": [
            "2\n"
          ]
        },
        {
          "output_type": "execute_result",
          "data": {
            "text/plain": [
              "array([[  1, 100,   3],\n",
              "       [  4,   5,   6],\n",
              "       [  7,   8,  10],\n",
              "       [  9,  10,  11]])"
            ]
          },
          "metadata": {},
          "execution_count": 4
        }
      ],
      "source": [
        "# Создаем двумерный массив\n",
        "M = np.array([[1, 2, 3], [4, 5, 6], [7, 8, 10], [9,10,11]])\n",
        "print(M[0, 1])\n",
        "M[0,1]=100          #Изменение элемента массива\n",
        "M"
      ]
    },
    {
      "cell_type": "code",
      "execution_count": null,
      "id": "VPMbCjmaYC7_",
      "metadata": {
        "id": "VPMbCjmaYC7_",
        "colab": {
          "base_uri": "https://localhost:8080/"
        },
        "outputId": "b14e029b-5ff0-4ecc-ce7c-bd34e7009355"
      },
      "outputs": [
        {
          "output_type": "stream",
          "name": "stdout",
          "text": [
            "12\n",
            "2\n",
            "(4, 3)\n",
            "4\n"
          ]
        }
      ],
      "source": [
        "print(M.size)     # число элементов в массиве\n",
        "print(M.ndim)     # размерность массива\n",
        "print(M.shape)    # кортеж с размером каждого измерения массива\n",
        "print(len(M))     # длина по первой оси"
      ]
    },
    {
      "cell_type": "code",
      "execution_count": null,
      "id": "0fqVJXQ3hsc2",
      "metadata": {
        "id": "0fqVJXQ3hsc2",
        "colab": {
          "base_uri": "https://localhost:8080/"
        },
        "outputId": "5a80a55d-01a0-4438-fca0-9720757c5998"
      },
      "outputs": [
        {
          "output_type": "stream",
          "name": "stdout",
          "text": [
            "float64\n",
            "int32\n"
          ]
        }
      ],
      "source": [
        "#Все элементы в массиве numpy принадлежат одному типу\n",
        "x = np.array([1.0, 2.0])   # Автоматический выбор типа\n",
        "print(x.dtype)\n",
        "\n",
        "x = np.array([1.0, 2.0], dtype=np.int32)   # Принудительное задание типа\n",
        "print(x.dtype)"
      ]
    },
    {
      "cell_type": "code",
      "execution_count": null,
      "id": "-8nn6MsBVeGT",
      "metadata": {
        "id": "-8nn6MsBVeGT",
        "colab": {
          "base_uri": "https://localhost:8080/"
        },
        "outputId": "0aae9f28-a875-4873-bd45-1f489415859b"
      },
      "outputs": [
        {
          "output_type": "stream",
          "name": "stdout",
          "text": [
            "Единичная матрица:\n",
            " [[1. 0. 0. 0.]\n",
            " [0. 1. 0. 0.]\n",
            " [0. 0. 1. 0.]\n",
            " [0. 0. 0. 1.]]\n",
            "Матрица из всех единиц:\n",
            " [[1. 1. 1. 1. 1.]\n",
            " [1. 1. 1. 1. 1.]]\n",
            "Матрица из всех нулей:\n",
            " [[1. 1. 1. 1. 1.]\n",
            " [1. 1. 1. 1. 1.]]\n"
          ]
        }
      ],
      "source": [
        "b = np.eye(4)\n",
        "print (\"Единичная матрица:\\n\", b)\n",
        "\n",
        "c = np.ones((2, 5))\n",
        "print (\"Матрица из всех единиц:\\n\", c)\n",
        "\n",
        "z = np.zeros((3, 3))\n",
        "print (\"Матрица из всех нулей:\\n\", c)\n"
      ]
    },
    {
      "cell_type": "code",
      "execution_count": null,
      "id": "jmiqzLTnYeAO",
      "metadata": {
        "id": "jmiqzLTnYeAO",
        "colab": {
          "base_uri": "https://localhost:8080/"
        },
        "outputId": "21e700b8-bb5a-4613-e47b-0d10c82b9628"
      },
      "outputs": [
        {
          "output_type": "stream",
          "name": "stdout",
          "text": [
            "Вектор-столбец:\n",
            " [ 0  2  4  6  8 10 12 14 16 18 20 22]\n",
            "Матрица:\n",
            " [[ 0  2  4  6]\n",
            " [ 8 10 12 14]\n",
            " [16 18 20 22]]\n"
          ]
        }
      ],
      "source": [
        "v2 = np.arange(0, 24, 2)\n",
        "print (\"Вектор-столбец:\\n\", v2)\n",
        "\n",
        "d = v2.reshape((3, 4))     #!функция reshape создает новый массив, исходный массив v2 она не изменяет\n",
        "print (\"Матрица:\\n\", d)\n"
      ]
    },
    {
      "cell_type": "code",
      "execution_count": null,
      "id": "HLkFDy5zL3D6",
      "metadata": {
        "id": "HLkFDy5zL3D6"
      },
      "outputs": [],
      "source": [
        "# Как создать одномерную версию многомерного массива?\n",
        "d.flatten()\n",
        "\n",
        "#d.flatten().tolist()   # а это преобразование массива в список"
      ]
    },
    {
      "cell_type": "code",
      "execution_count": null,
      "id": "Oi2scIDOVsKp",
      "metadata": {
        "id": "Oi2scIDOVsKp"
      },
      "outputs": [],
      "source": [
        "d = np.full((2,2), 7)  # Создает матрицу 2x2 заполненую заданным значением 7\n",
        "print(d)\n",
        "\n",
        "e = np.random.random((2,2))   # cоздает матрицу заполненую случаными числами из интервала (0, 1)\n",
        "print(e)\n",
        "\n",
        "f=np.random.randint(1,4,10).reshape(2,5)    # cоздает матрицу 2x5 заполненую случаными числами из интервала [1, 4)\n",
        "print(f)"
      ]
    },
    {
      "cell_type": "code",
      "source": [
        "np.random."
      ],
      "metadata": {
        "id": "HAmtKxhUU2SI"
      },
      "id": "HAmtKxhUU2SI",
      "execution_count": null,
      "outputs": []
    },
    {
      "cell_type": "code",
      "execution_count": null,
      "id": "cd15e45d-7c08-4635-8957-e10073628c58",
      "metadata": {
        "id": "cd15e45d-7c08-4635-8957-e10073628c58",
        "colab": {
          "base_uri": "https://localhost:8080/"
        },
        "outputId": "7b6a5960-5249-4d54-b24e-995c22b0acea"
      },
      "outputs": [
        {
          "output_type": "stream",
          "name": "stdout",
          "text": [
            "[[  1 100   3]\n",
            " [  4   5   6]\n",
            " [  7   8  10]\n",
            " [  9  10  11]]\n"
          ]
        },
        {
          "output_type": "execute_result",
          "data": {
            "text/plain": [
              "array([100,   5,   8,  10])"
            ]
          },
          "metadata": {},
          "execution_count": 9
        }
      ],
      "source": [
        "#Cрезы.\n",
        "# В качестве упражнения попробуйте определить результат каждой строки,\n",
        "# а потом проверьте, сняв комментарий\n",
        "\n",
        "print(M)\n",
        "M[:, 1]\n",
        "#M[0:2, 1]\n",
        "#M[0:-1, 1]\n",
        "#M[1]\n",
        "#M[:, [0,2]]\n",
        "\n",
        "#print(v)\n",
        "#M[0, :] = v  # меняет первую строку в массиве на элменты вектора v\n",
        "#M"
      ]
    },
    {
      "cell_type": "code",
      "execution_count": null,
      "id": "_Kh43VBSS2Yz",
      "metadata": {
        "id": "_Kh43VBSS2Yz"
      },
      "outputs": [],
      "source": [
        "#Базовые методы\n",
        "A = np.array([2,3,4], dtype=np.float64)\n",
        "print(A.sum())\n",
        "print(A.prod())\n",
        "print(A.mean())\n",
        "print(A.max())\n",
        "print(A.argmin())  #argmin и argmax возвращают индексы массива минимума и максимума\n",
        "\n",
        "# Большинство приведенных выше методов можно вызывать и как обычные функции:\n",
        "print(sum(A))\n",
        "print(min(A))\n",
        "\n",
        "#Для многомерных массивов каждая из этих функций может принимать необязательный\n",
        "#параметр axis (ось аргумента), и тогда будет выполнять операцию только по указанной оси.\n",
        "B = np.array([[1, 3], [3, -1], [5, 7]], dtype=np.float64)\n",
        "print('B=',B)\n",
        "B.mean(axis=1)"
      ]
    },
    {
      "cell_type": "code",
      "execution_count": null,
      "id": "17afec1e-4e01-430d-9a77-e807ab9d58be",
      "metadata": {
        "id": "17afec1e-4e01-430d-9a77-e807ab9d58be",
        "colab": {
          "base_uri": "https://localhost:8080/"
        },
        "outputId": "24d63b20-9005-4ed8-9dcf-13a0660758e0"
      },
      "outputs": [
        {
          "output_type": "stream",
          "name": "stdout",
          "text": [
            "[[ 1  2  3]\n",
            " [ 4  5  6]\n",
            " [ 7  8 10]]\n",
            "[ 1.  3. -1.]\n"
          ]
        },
        {
          "output_type": "execute_result",
          "data": {
            "text/plain": [
              "array([[ 30,  36,  45],\n",
              "       [ 66,  81, 102],\n",
              "       [109, 134, 169]])"
            ]
          },
          "metadata": {},
          "execution_count": 12
        }
      ],
      "source": [
        "# Операции над массивами.\n",
        "M = np.array([[1, 2, 3], [4, 5, 6], [7, 8, 10]])\n",
        "print(M)\n",
        "print(v)\n",
        "#M+M                  #поэлеметное сложение\n",
        "#M*M                  #поэлеметное(!) умножение\n",
        "#M*v\n",
        "#np.sin(M)            #поэлементное применение функции sin\n",
        "\n",
        "np.dot(M, M)         #матричное умножение\n",
        "\n",
        "#np.trace(M)          #cумма диагональных элеменов\n",
        "#np.diagonal(M)       #извлечь диагональные элементы\n",
        "#np.linalg.det(M)     #определитель"
      ]
    },
    {
      "cell_type": "code",
      "execution_count": null,
      "id": "q_SNCnDfYxPO",
      "metadata": {
        "id": "q_SNCnDfYxPO"
      },
      "outputs": [],
      "source": [
        "#Решение системы линейных уравнений Mx=y. (Построим у для x=v и проверим, что найденное решение совпадет с v)\n",
        "M = np.array([[1, 2, 3], [4, 5, 6], [7, 8, 10]])\n",
        "v = np.array([1, 3, -1])\n",
        "y = np.dot(M, v)\n",
        "print(y)\n",
        "x=np.linalg.solve(M, y)     # используется решатель linalg.solve\n",
        "x"
      ]
    },
    {
      "cell_type": "code",
      "execution_count": null,
      "id": "qp1D7pVDPyPv",
      "metadata": {
        "id": "qp1D7pVDPyPv",
        "colab": {
          "base_uri": "https://localhost:8080/"
        },
        "outputId": "3dd404e3-a420-4b44-b71f-572ccef58fa6"
      },
      "outputs": [
        {
          "output_type": "stream",
          "name": "stdout",
          "text": [
            "[1. 2.]\n",
            "[3. 4.]\n",
            "[5. 6.]\n"
          ]
        }
      ],
      "source": [
        "#Итерации как и для списков\n",
        "A = np.array([[1, 2], [3, 4], [5, 6]], dtype=np.float64)\n",
        "for x in A:\n",
        "   print(x)"
      ]
    },
    {
      "cell_type": "code",
      "execution_count": null,
      "id": "oexrlDEe_1pJ",
      "metadata": {
        "id": "oexrlDEe_1pJ",
        "outputId": "3c997f44-a04c-4e59-f4a6-0a10fa008151",
        "colab": {
          "base_uri": "https://localhost:8080/"
        }
      },
      "outputs": [
        {
          "output_type": "stream",
          "name": "stdout",
          "text": [
            "Результат итера0: 21081849486.439312.\n",
            "1.1174812316894531 с.\n",
            "Результат итераf: 21081849486.442493.\n",
            "1.3276031017303467 с.\n",
            "Результат numpy1: 21081849486.439312.\n",
            "0.7536470890045166 с.\n",
            "Результат numpy2: 21081849486.442448.\n",
            "0.04662275314331055 с.\n"
          ]
        }
      ],
      "source": [
        "# Cкорость обработки массивов намного выше, чем списков.\n",
        "# Пример: посчитаем сумму квадратных корней первых 10^7 чисел и посмотрим различие в скорости работы массивов и списков.\n",
        "\n",
        "from time import time\n",
        "from math import sqrt,fsum\n",
        "\n",
        "t = time()\n",
        "print(f\"Результат итера0: {sum(x ** 0.5 for x in range(10 ** 7))}.\")\n",
        "print(f\"{time() - t} с.\")\n",
        "\n",
        "t = time()\n",
        "print(f\"Результат итераf: {fsum(sqrt(x) for x in range(10 ** 7))}.\")\n",
        "print(f\"{time() - t} с.\")\n",
        "\n",
        "t = time()\n",
        "print(f\"Результат numpy1: {sum(np.sqrt(np.arange(10 ** 7)))}.\")\n",
        "##print(f\"Результат numpy: {np.sqrt(np.arange(10 ** 7)).sum()}.\")\n",
        "print(f\"{time() - t} с.\")\n",
        "\n",
        "t = time()\n",
        "print(f\"Результат numpy2: {(np.sqrt(np.arange(10 ** 7))).sum()}.\")\n",
        "print(f\"{time() - t} с.\")\n",
        "\n",
        "##np.array_equal(a, b)"
      ]
    },
    {
      "cell_type": "code",
      "execution_count": null,
      "id": "8dbd6c5d",
      "metadata": {
        "id": "8dbd6c5d",
        "outputId": "2ddf769f-cc25-4d2c-9064-623dca5d5f29"
      },
      "outputs": [
        {
          "name": "stdout",
          "output_type": "stream",
          "text": [
            "0.9999999999999999\n",
            "1.0\n"
          ]
        }
      ],
      "source": [
        "# Замечание о точности.\n",
        "# Для чисел с плавающей запятой числовая точность суммы в целом ограничена прямым добавлением каждого\n",
        "# числа по отдельности к результату, что вызывает ошибки округления на каждом шаге.\n",
        "# 1) fsum из библиотеки math лучше, чем sum работает с числами с плавающей запятой.\n",
        "# 2) функции sum() и np.sum() не идентичны. Так, смысл их опциональных\n",
        "# аргументов отличается и функция np.sum() может работать с многомерными массивами\n",
        "# np.sum из numpy может использовать численно лучший подход (частичное попарное суммирование),\n",
        "\n",
        "from math import fsum\n",
        "\n",
        "print(sum([.1, .1, .1, .1, .1, .1, .1, .1, .1, .1]))      # 0.9999999999999999\n",
        "print(fsum([.1, .1, .1, .1, .1, .1, .1, .1, .1, .1]))     # 1.0\n"
      ]
    },
    {
      "cell_type": "code",
      "execution_count": null,
      "id": "e8962b0e",
      "metadata": {
        "id": "e8962b0e",
        "outputId": "9ba67c64-a4fd-488d-c172-c719810ce096"
      },
      "outputs": [
        {
          "name": "stdout",
          "output_type": "stream",
          "text": [
            "76.7 ms ± 256 µs per loop (mean ± std. dev. of 7 runs, 10 loops each)\n",
            "573 µs ± 1.18 µs per loop (mean ± std. dev. of 7 runs, 1,000 loops each)\n",
            "571 µs ± 5.25 µs per loop (mean ± std. dev. of 7 runs, 1,000 loops each)\n",
            "500198.4140149663\n",
            "500198.414014964\n",
            "500198.414014964\n"
          ]
        }
      ],
      "source": [
        "\n",
        "#Важно заметить, что функции sum() и np.sum() не идентичны. Так, смысл их опциональных\n",
        "#аргументов отличается и функция np.sum() может работать с многомерными массивами\n",
        "\n",
        "big_array = np.random.rand(1000000)\n",
        "%timeit s=sum(big_array)         # Магическая команда в IPython\n",
        "%timeit ns=np.sum(big_array)\n",
        "%timeit ns1=big_array.sum()\n",
        "s=sum(big_array)\n",
        "ns=np.sum(big_array)\n",
        "ns1=big_array.sum()\n",
        "print(s)\n",
        "print(ns)\n",
        "print(ns1)"
      ]
    },
    {
      "cell_type": "code",
      "execution_count": null,
      "id": "izSt02F0PPqz",
      "metadata": {
        "id": "izSt02F0PPqz"
      },
      "outputs": [],
      "source": [
        "#Вместе со стандартным набором математических функций numpy содержит две константы\n",
        "print(np.pi, np.e)"
      ]
    },
    {
      "cell_type": "code",
      "execution_count": null,
      "id": "vzSOWkfFLpCd",
      "metadata": {
        "id": "vzSOWkfFLpCd"
      },
      "outputs": [],
      "source": [
        "#O копировании\n",
        "print(M)\n",
        "C = M[1:3, 1:3]\n",
        "print(C)\n",
        "C[1:] =100\n",
        "print(C)\n",
        "print(M)\n",
        "#C = M[1:3, 1:3].copy()    - а правильно было так!"
      ]
    },
    {
      "cell_type": "code",
      "execution_count": null,
      "id": "9Vi4eaVyobo9",
      "metadata": {
        "id": "9Vi4eaVyobo9"
      },
      "outputs": [],
      "source": [
        "#Транспонирование\n",
        "a = np.array([[1, 2], [3, 4]])\n",
        "b = np.transpose(a)\n",
        "c = a.T"
      ]
    },
    {
      "cell_type": "code",
      "execution_count": null,
      "id": "5E-u42z3pD5N",
      "metadata": {
        "id": "5E-u42z3pD5N"
      },
      "outputs": [],
      "source": [
        "#Ранг матрицы (мах число независимых строк столбцов)\n",
        "a = np.array([[1, 2, 3], [1, 1, 1], [2, 2, 2]])\n",
        "r = np.linalg.matrix_rank(a)\n",
        "print(r)"
      ]
    },
    {
      "cell_type": "code",
      "execution_count": null,
      "id": "zKGU2mzmfZWS",
      "metadata": {
        "id": "zKGU2mzmfZWS",
        "colab": {
          "base_uri": "https://localhost:8080/"
        },
        "outputId": "8a85fe1b-5a70-46cb-8f15-a96b872926f1"
      },
      "outputs": [
        {
          "output_type": "stream",
          "name": "stdout",
          "text": [
            "a:\n",
            " [1 2 3]\n",
            " (3,)\n",
            "b:\n",
            " [[1]\n",
            " [2]\n",
            " [3]]\n",
            " (3, 1)\n",
            "\n",
            "[1 2 3]\n",
            "[[1]\n",
            " [2]\n",
            " [3]] [[1 2 3]]\n"
          ]
        }
      ],
      "source": [
        "#Обратите внимание: вектор (одномерный массив) и вектор-столбец или вектор-строка (двумерные массивы)\n",
        "#являются различными объектами в NumPy, хотя математически задают один и тот же объект.\n",
        "#В случае одномерного массива shape состоит из одного числа и имеет вид (n,), где n — длина вектора.\n",
        "#В случае двумерных векторов в shape присутствует еще одна размерность (n,1).\n",
        "a = np.array([1, 2, 3])\n",
        "b = np.array([[1], [2], [3]])\n",
        "print (f'a:\\n {a}\\n {a.shape}')\n",
        "print (f'b:\\n {b}\\n {b.shape}\\n')\n",
        "\n",
        "#В большинстве случаев неважно, какое представление использовать, потому что часто\n",
        "#срабатывает приведение типов. Но некоторые операции не работают для одномерных массивов.\n",
        "#Например, транспонирование:\n",
        "print(a.T)\n",
        "print(b,b.T)\n"
      ]
    },
    {
      "cell_type": "code",
      "execution_count": null,
      "id": "bWyzaMNgweR2",
      "metadata": {
        "id": "bWyzaMNgweR2"
      },
      "outputs": [],
      "source": [
        "#Норма\n",
        "#linalg.norm(a[, ord])\n",
        "a = np.array([2, 2, -3])\n",
        "print('L1 норма вектора a:', np.linalg.norm(a, ord=1))\n",
        "print('L2 норма вектора a:', np.linalg.norm(a, ord=2))"
      ]
    },
    {
      "cell_type": "code",
      "execution_count": null,
      "id": "cSp4NVyup9V8",
      "metadata": {
        "id": "cSp4NVyup9V8",
        "colab": {
          "base_uri": "https://localhost:8080/"
        },
        "outputId": "fe76b6a2-fc4d-436f-df62-34b83291a12f"
      },
      "outputs": [
        {
          "output_type": "stream",
          "name": "stdout",
          "text": [
            "[[ 6.  9. -7.]\n",
            " [-2. -4.  3.]\n",
            " [-1. -1.  1.]]\n",
            "[[ 1.1455742  -0.36210677 -0.34674472  0.28163862]\n",
            " [ 0.0380395  -0.06949525  0.14557424 -0.05705925]\n",
            " [-0.3650329   0.22457936  0.04535479  0.04754937]]\n"
          ]
        }
      ],
      "source": [
        "#Обратная матрица(для квадратных невырожденных матриц)\n",
        "A = np.array([[1, 2, 1], [1, 1, 4], [2, 3, 6]], dtype=np.float32)\n",
        "D = np.array([[1, 2, 1], [1, 1, 4], [1, 8, 4], [2, 3, 6]], dtype=np.float32)\n",
        "D\n",
        "print(np.linalg.inv(A))\n",
        "print(np.linalg.pinv(D))     #Псевдо-обратная матрица (Мура-Пенроуза) для произвольных матриц"
      ]
    },
    {
      "cell_type": "code",
      "execution_count": null,
      "id": "KPtk-fpQBMUb",
      "metadata": {
        "id": "KPtk-fpQBMUb",
        "colab": {
          "base_uri": "https://localhost:8080/"
        },
        "outputId": "74358c21-c99b-4e9a-a466-d5da0db20be7"
      },
      "outputs": [
        {
          "output_type": "execute_result",
          "data": {
            "text/plain": [
              "(array([ 8.345132  ,  0.21422778, -0.5593595 ], dtype=float32),\n",
              " array([[-0.24707341, -0.9428197 ,  0.774807  ],\n",
              "        [-0.4891597 ,  0.280078  , -0.6300621 ],\n",
              "        [-0.83646727,  0.18068555,  0.05192159]], dtype=float32))"
            ]
          },
          "metadata": {},
          "execution_count": 19
        }
      ],
      "source": [
        "np.linalg.eig(A) \t    #собственные значения и собственные вектора квадратной матрицы"
      ]
    },
    {
      "cell_type": "code",
      "execution_count": null,
      "id": "c8430d3a-3832-4605-8955-95a93d131856",
      "metadata": {
        "id": "c8430d3a-3832-4605-8955-95a93d131856"
      },
      "outputs": [],
      "source": [
        "#Cоздание сеток\n",
        "#Равномерный набор заданного числа точек(11) на заданном интрвале [-5,5]\n",
        "x = np.linspace(-5, 5, 11)\n",
        "print(x)\n",
        "\n",
        "#Набор последовательных чисел из промежутка [start, stop) с заданным шагом step\n",
        "#arange([start,] stop [, step,][, dtype])\n",
        "x=np.arange(4.0)\n",
        "print(x)\n",
        "\n",
        "#Логарифмический набор точек\n",
        "x=np.logspace(2.0, 3.0, num=4, base=2.0)\n",
        "print(x)\n",
        "\n",
        "#Два вектора, описывающих точки ортогональной сетки.\n",
        "X, Y = np.meshgrid([1,2,3], [4,5,7])"
      ]
    },
    {
      "cell_type": "code",
      "execution_count": null,
      "id": "708yLUehKrSR",
      "metadata": {
        "id": "708yLUehKrSR"
      },
      "outputs": [],
      "source": [
        "# Постейший вариант сохранения и чтения массива из файла\n",
        "data = np.array([[1, 2, 3], [4, 5, 6]])\n",
        "np.savetxt(\"data.txt\", data, delimiter=\",\")\n",
        "data = np.loadtxt(\"data.txt\", delimiter=\",\", dtype=np.int32)\n",
        "print(data)"
      ]
    },
    {
      "cell_type": "code",
      "execution_count": null,
      "id": "Z6-R7taGuJTV",
      "metadata": {
        "id": "Z6-R7taGuJTV"
      },
      "outputs": [],
      "source": [
        "#Задания\n",
        "\n",
        "#Заданиe_1\n",
        "#Создайте вектор из нулей длины 12, но его 4-й елемент должен быть равен 1\n",
        "\n",
        "#Заданиe_2\n",
        "#Создайте матрицу (3, 3), заполненую от 0 до 8\n",
        "\n",
        "#Задание_3\n",
        "#Напишите функцию, которая принимает размер матрицы, а возвращает матрицу,\n",
        "#сформированною ее по формуле\n",
        "#A[n,m] = n + 10 * m\n",
        "\n",
        "#Заданиe_4\n",
        "#Создайте рандомный вектор и отсортируйте его по убыванию.(Найдите и разберитесь\n",
        "#с функцией сортировки)\n",
        "\n",
        "#Заданиe_5\n",
        "#Напишите свои функции вычисления L1 и L2 нормы вектора и сравните с np.linalg.norm.\n",
        "#Для каждой нормы напечатайте в строку оба значения и результат сравнения.\n",
        "#Оформите все в виде функции с одним аргументом(входным вектором).\n",
        "\n",
        "#Задание_6\n",
        "#Напишите функцию, принимающую на вход два вектора, которая вычисляет\n",
        "#угол между этими векторами.\n",
        "\n",
        "#Задание_7\n",
        "#Сгенерируйте матрицу 4x4 из целых случайных чисел.\n",
        "#Если определитель матрицы не равен 0, то вычислите обратную матрицу.\n",
        "#Проверьте, что произведение A на обратную должна быть единичной.\n",
        "\n",
        "#Заданиe_8\n",
        "#Написать функцию select_even(arr), принимающую на вход массив целых чисел arr\n",
        "#и возвращающую новый массив, который состоит из всех чётных элементов arr.\n",
        "\n",
        "#Задание_9\n",
        "#Сгенериуйте две матрицы 1000 х 1000 из случайнах целых чисел от 0 до 10.\n",
        "#Сравним быстродействие обычной реализации поэлементного сложения матриц через цикл\n",
        "#и метода NumPy.  А также проверьте, совпадают ли результаты.\n",
        "\n",
        "#Заданиe_10\n",
        "#Написать функцию wipe_even(arr, target_value, in_place), принимающую на вход массив целых\n",
        "#чисел arr, и возвращающую массив, полученный из arr путём замены всех чётных элементов на\n",
        "#target_value. Если target_value не указано, то оно должно считаться равным числу 0.\n",
        "#Если указан параметр in_place и он равен True, то функция должна менять исходный массив,\n",
        "#а если не указан или указан в False, то сохранять его неизменным.\n",
        "\n",
        "#Заданиe_11\n",
        "#Постройте 3D-график функции z=x^2-y^2 на области x: [-1.5, 1.5], y: [-1,1]"
      ]
    }
  ],
  "metadata": {
    "colab": {
      "provenance": [],
      "include_colab_link": true
    },
    "kernelspec": {
      "display_name": "Python 3 (ipykernel)",
      "language": "python",
      "name": "python3"
    },
    "language_info": {
      "codemirror_mode": {
        "name": "ipython",
        "version": 3
      },
      "file_extension": ".py",
      "mimetype": "text/x-python",
      "name": "python",
      "nbconvert_exporter": "python",
      "pygments_lexer": "ipython3",
      "version": "3.9.12"
    }
  },
  "nbformat": 4,
  "nbformat_minor": 5
}